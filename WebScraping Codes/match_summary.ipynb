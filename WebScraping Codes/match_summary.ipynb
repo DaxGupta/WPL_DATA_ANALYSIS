{
 "cells": [
  {
   "cell_type": "code",
   "execution_count": 5,
   "id": "b5cb21ee",
   "metadata": {},
   "outputs": [],
   "source": [
    "import requests\n",
    "from bs4 import BeautifulSoup\n",
    "import json"
   ]
  },
  {
   "cell_type": "code",
   "execution_count": 6,
   "id": "e5ce19d6",
   "metadata": {},
   "outputs": [],
   "source": [
    "# make the HTTP request and get the page content\n",
    "url = \"https://stats.espncricinfo.com/ci/engine/records/team/match_results.html?id=15174;type=tournament\"\n",
    "response = requests.get(url)\n",
    "html = response.content\n",
    "\n",
    "# parse the HTML content with Beautiful Soup\n",
    "soup = BeautifulSoup(html, \"html.parser\")\n",
    "\n",
    "# create an array to store all the records\n",
    "match_summary = []"
   ]
  },
  {
   "cell_type": "code",
   "execution_count": 7,
   "id": "f92ce8cf",
   "metadata": {},
   "outputs": [
    {
     "name": "stdout",
     "output_type": "stream",
     "text": [
      "[]\n"
     ]
    }
   ],
   "source": [
    "# select all rows we need from target table\n",
    "allRows = soup.select(\"table.engineTable > tbody > tr.data1\")\n",
    "\n",
    "# loop through each row and get the data from the cells (td)\n",
    "\n",
    "for i in range(len(allRows)):\n",
    "    row = allRows[i]\n",
    "    tds = row.find_all(\"td\")\n",
    "    match_summary.append({\n",
    "        \"team1\": tds[0].get_text(),\n",
    "        \"team2\": tds[1].get_text(),\n",
    "        \"winner\": tds[2].get_text(),\n",
    "        \"margin\": tds[3].get_text(),\n",
    "        \"ground\": tds[4].get_text(),\n",
    "        \"matchDate\": tds[5].get_text(),\n",
    "        \"matchID\": tds[6].get_text()+\"#\"+str(i+1),\n",
    "    })\n",
    "    \n",
    "\n",
    "# finally, return the data\n",
    "print(match_summary)\n"
   ]
  },
  {
   "cell_type": "code",
   "execution_count": 8,
   "id": "815afbe1",
   "metadata": {},
   "outputs": [],
   "source": [
    "with open('match_summary.json', 'w') as f:\n",
    "    json.dump(match_summary, f, indent=4)"
   ]
  }
 ],
 "metadata": {
  "kernelspec": {
   "display_name": "Python 3 (ipykernel)",
   "language": "python",
   "name": "python3"
  },
  "language_info": {
   "codemirror_mode": {
    "name": "ipython",
    "version": 3
   },
   "file_extension": ".py",
   "mimetype": "text/x-python",
   "name": "python",
   "nbconvert_exporter": "python",
   "pygments_lexer": "ipython3",
   "version": "3.11.5"
  }
 },
 "nbformat": 4,
 "nbformat_minor": 5
}
